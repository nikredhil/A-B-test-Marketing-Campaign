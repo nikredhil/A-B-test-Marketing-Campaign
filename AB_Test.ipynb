{
 "cells": [
  {
   "cell_type": "code",
   "execution_count": 1,
   "id": "a48780d6-2cda-496b-8d0e-41c2ab0c18e4",
   "metadata": {},
   "outputs": [],
   "source": [
    "import pandas as pd\n",
    "import numpy as np\n",
    "import random\n",
    "from scipy.stats import norm\n",
    "import statsmodels.api as sm\n",
    "import matplotlib.pyplot as plt\n",
    "%matplotlib inline\n",
    "#We are setting the seed to assure you get the same answers on quizzes as we set up\n",
    "random.seed(42)\n"
   ]
  },
  {
   "cell_type": "code",
   "execution_count": 2,
   "id": "fad455e9-4c8a-46dd-8e3f-fcb61f9e6901",
   "metadata": {},
   "outputs": [],
   "source": [
    "df = pd.read_csv('/Users/nikhilreddy/Downloads/WA_Marketing-Campaign.csv')"
   ]
  },
  {
   "cell_type": "code",
   "execution_count": 3,
   "id": "d2ab3dc2-7937-4401-8a8c-4985fa73ab59",
   "metadata": {},
   "outputs": [
    {
     "data": {
      "text/html": [
       "<div>\n",
       "<style scoped>\n",
       "    .dataframe tbody tr th:only-of-type {\n",
       "        vertical-align: middle;\n",
       "    }\n",
       "\n",
       "    .dataframe tbody tr th {\n",
       "        vertical-align: top;\n",
       "    }\n",
       "\n",
       "    .dataframe thead th {\n",
       "        text-align: right;\n",
       "    }\n",
       "</style>\n",
       "<table border=\"1\" class=\"dataframe\">\n",
       "  <thead>\n",
       "    <tr style=\"text-align: right;\">\n",
       "      <th></th>\n",
       "      <th>MarketID</th>\n",
       "      <th>MarketSize</th>\n",
       "      <th>LocationID</th>\n",
       "      <th>AgeOfStore</th>\n",
       "      <th>Promotion</th>\n",
       "      <th>week</th>\n",
       "      <th>SalesInThousands</th>\n",
       "    </tr>\n",
       "  </thead>\n",
       "  <tbody>\n",
       "    <tr>\n",
       "      <th>0</th>\n",
       "      <td>1</td>\n",
       "      <td>Medium</td>\n",
       "      <td>1</td>\n",
       "      <td>4</td>\n",
       "      <td>3</td>\n",
       "      <td>1</td>\n",
       "      <td>33.73</td>\n",
       "    </tr>\n",
       "    <tr>\n",
       "      <th>1</th>\n",
       "      <td>1</td>\n",
       "      <td>Medium</td>\n",
       "      <td>1</td>\n",
       "      <td>4</td>\n",
       "      <td>3</td>\n",
       "      <td>2</td>\n",
       "      <td>35.67</td>\n",
       "    </tr>\n",
       "    <tr>\n",
       "      <th>2</th>\n",
       "      <td>1</td>\n",
       "      <td>Medium</td>\n",
       "      <td>1</td>\n",
       "      <td>4</td>\n",
       "      <td>3</td>\n",
       "      <td>3</td>\n",
       "      <td>29.03</td>\n",
       "    </tr>\n",
       "    <tr>\n",
       "      <th>3</th>\n",
       "      <td>1</td>\n",
       "      <td>Medium</td>\n",
       "      <td>1</td>\n",
       "      <td>4</td>\n",
       "      <td>3</td>\n",
       "      <td>4</td>\n",
       "      <td>39.25</td>\n",
       "    </tr>\n",
       "    <tr>\n",
       "      <th>4</th>\n",
       "      <td>1</td>\n",
       "      <td>Medium</td>\n",
       "      <td>2</td>\n",
       "      <td>5</td>\n",
       "      <td>2</td>\n",
       "      <td>1</td>\n",
       "      <td>27.81</td>\n",
       "    </tr>\n",
       "    <tr>\n",
       "      <th>5</th>\n",
       "      <td>1</td>\n",
       "      <td>Medium</td>\n",
       "      <td>2</td>\n",
       "      <td>5</td>\n",
       "      <td>2</td>\n",
       "      <td>2</td>\n",
       "      <td>34.67</td>\n",
       "    </tr>\n",
       "    <tr>\n",
       "      <th>6</th>\n",
       "      <td>1</td>\n",
       "      <td>Medium</td>\n",
       "      <td>2</td>\n",
       "      <td>5</td>\n",
       "      <td>2</td>\n",
       "      <td>3</td>\n",
       "      <td>27.98</td>\n",
       "    </tr>\n",
       "    <tr>\n",
       "      <th>7</th>\n",
       "      <td>1</td>\n",
       "      <td>Medium</td>\n",
       "      <td>2</td>\n",
       "      <td>5</td>\n",
       "      <td>2</td>\n",
       "      <td>4</td>\n",
       "      <td>27.72</td>\n",
       "    </tr>\n",
       "    <tr>\n",
       "      <th>8</th>\n",
       "      <td>1</td>\n",
       "      <td>Medium</td>\n",
       "      <td>3</td>\n",
       "      <td>12</td>\n",
       "      <td>1</td>\n",
       "      <td>1</td>\n",
       "      <td>44.54</td>\n",
       "    </tr>\n",
       "    <tr>\n",
       "      <th>9</th>\n",
       "      <td>1</td>\n",
       "      <td>Medium</td>\n",
       "      <td>3</td>\n",
       "      <td>12</td>\n",
       "      <td>1</td>\n",
       "      <td>2</td>\n",
       "      <td>37.94</td>\n",
       "    </tr>\n",
       "  </tbody>\n",
       "</table>\n",
       "</div>"
      ],
      "text/plain": [
       "   MarketID MarketSize  LocationID  AgeOfStore  Promotion  week  \\\n",
       "0         1     Medium           1           4          3     1   \n",
       "1         1     Medium           1           4          3     2   \n",
       "2         1     Medium           1           4          3     3   \n",
       "3         1     Medium           1           4          3     4   \n",
       "4         1     Medium           2           5          2     1   \n",
       "5         1     Medium           2           5          2     2   \n",
       "6         1     Medium           2           5          2     3   \n",
       "7         1     Medium           2           5          2     4   \n",
       "8         1     Medium           3          12          1     1   \n",
       "9         1     Medium           3          12          1     2   \n",
       "\n",
       "   SalesInThousands  \n",
       "0             33.73  \n",
       "1             35.67  \n",
       "2             29.03  \n",
       "3             39.25  \n",
       "4             27.81  \n",
       "5             34.67  \n",
       "6             27.98  \n",
       "7             27.72  \n",
       "8             44.54  \n",
       "9             37.94  "
      ]
     },
     "execution_count": 3,
     "metadata": {},
     "output_type": "execute_result"
    }
   ],
   "source": [
    "df.head(10)"
   ]
  },
  {
   "cell_type": "code",
   "execution_count": 16,
   "id": "0f5669d2-447d-4eb8-94c2-788a4ecaf4fb",
   "metadata": {},
   "outputs": [
    {
     "name": "stdout",
     "output_type": "stream",
     "text": [
      "Dataset shape: (548, 7)\n",
      "Number of rows: 548\n",
      "Number of unique MarketIDs: 10\n"
     ]
    }
   ],
   "source": [
    "\n",
    "# Check dataset dimensions and info\n",
    "print(f\"Dataset shape: {df.shape}\")\n",
    "print(f\"Number of rows: {df.shape[0]}\")\n",
    "print(f\"Number of unique MarketIDs: {df['MarketID'].nunique()}\")"
   ]
  },
  {
   "cell_type": "code",
   "execution_count": 18,
   "id": "4baed787-1ad6-4cae-be7e-a51cc2b166dd",
   "metadata": {},
   "outputs": [
    {
     "name": "stdout",
     "output_type": "stream",
     "text": [
      "Overall average sales: $53.47k\n"
     ]
    }
   ],
   "source": [
    "# Calculate overall average sales performance\n",
    "overall_avg_sales = df['SalesInThousands'].mean()\n",
    "print(f\"Overall average sales: ${overall_avg_sales:.2f}k\")"
   ]
  },
  {
   "cell_type": "code",
   "execution_count": 20,
   "id": "6ba95a6a-308f-442b-b2a5-d786a3c94871",
   "metadata": {},
   "outputs": [
    {
     "name": "stdout",
     "output_type": "stream",
     "text": [
      "Missing values per column:\n",
      "MarketID            0\n",
      "MarketSize          0\n",
      "LocationID          0\n",
      "AgeOfStore          0\n",
      "Promotion           0\n",
      "week                0\n",
      "SalesInThousands    0\n",
      "dtype: int64\n"
     ]
    }
   ],
   "source": [
    "# Check for missing values\n",
    "print(\"Missing values per column:\")\n",
    "print(df.isnull().sum())"
   ]
  },
  {
   "cell_type": "code",
   "execution_count": 22,
   "id": "e39fd382-bd8a-4a2e-82b0-29d85ab754a1",
   "metadata": {},
   "outputs": [
    {
     "name": "stdout",
     "output_type": "stream",
     "text": [
      "Original dataset: 548 rows\n",
      "Filtered dataset: 548 rows\n",
      "Treatment group: 376 rows\n",
      "Control group: 172 rows\n"
     ]
    }
   ],
   "source": [
    "# Create treatment/control groups based on promotion intensity\n",
    "df['group'] = df['Promotion'].map({\n",
    "    3: 'treatment',  # High promotion\n",
    "    2: 'treatment',  # Medium promotion  \n",
    "    1: 'control'     # Low/baseline promotion\n",
    "})\n",
    "\n",
    "# Filter for properly aligned records\n",
    "df2 = df[\n",
    "    ((df['group'] == 'treatment') & (df['Promotion'].isin([2, 3]))) |\n",
    "    ((df['group'] == 'control') & (df['Promotion'] == 1))\n",
    "]\n",
    "\n",
    "print(f\"Original dataset: {len(df)} rows\")\n",
    "print(f\"Filtered dataset: {len(df2)} rows\")\n",
    "print(f\"Treatment group: {len(df2[df2['group'] == 'treatment'])} rows\")\n",
    "print(f\"Control group: {len(df2[df2['group'] == 'control'])} rows\")"
   ]
  },
  {
   "cell_type": "code",
   "execution_count": 24,
   "id": "4935ed2c-cb45-42da-9d6f-c2059cdad4a8",
   "metadata": {},
   "outputs": [
    {
     "name": "stdout",
     "output_type": "stream",
     "text": [
      "Misaligned records: 0\n"
     ]
    }
   ],
   "source": [
    "# Verify the filtering worked correctly - should be 0\n",
    "misaligned = df2[((df2['group'] == 'treatment') & ~(df2['Promotion'].isin([2, 3]))) |\n",
    "                 ((df2['group'] == 'control') & (df2['Promotion'] != 1))].shape[0]\n",
    "print(f\"Misaligned records: {misaligned}\")"
   ]
  },
  {
   "cell_type": "code",
   "execution_count": 26,
   "id": "61707b3b-4e06-46d0-85d6-51ff4656de99",
   "metadata": {},
   "outputs": [
    {
     "name": "stdout",
     "output_type": "stream",
     "text": [
      "Found 548 duplicate MarketID/week combinations\n",
      "After removing duplicates: 40 rows\n"
     ]
    }
   ],
   "source": [
    "# Check for any duplicate MarketID/week combinations\n",
    "duplicates = df2[df2.duplicated(['MarketID', 'week'], keep=False)]\n",
    "if len(duplicates) > 0:\n",
    "    print(f\"Found {len(duplicates)} duplicate MarketID/week combinations\")\n",
    "    # Remove duplicates, keeping first occurrence\n",
    "    df2 = df2.drop_duplicates(['MarketID', 'week'], keep='first')\n",
    "    print(f\"After removing duplicates: {len(df2)} rows\")"
   ]
  },
  {
   "cell_type": "code",
   "execution_count": 28,
   "id": "360466ff-05e6-4f3a-8b45-d2b444517bf6",
   "metadata": {},
   "outputs": [
    {
     "name": "stdout",
     "output_type": "stream",
     "text": [
      "Overall average sales performance: $51.52k\n"
     ]
    }
   ],
   "source": [
    "# Calculate average sales performance regardless of group\n",
    "overall_sales_avg = df2['SalesInThousands'].mean()\n",
    "print(f\"Overall average sales performance: ${overall_sales_avg:.2f}k\")"
   ]
  },
  {
   "cell_type": "code",
   "execution_count": 30,
   "id": "3bfab6e1-9f3b-4e6a-a668-c8c861249108",
   "metadata": {},
   "outputs": [
    {
     "name": "stdout",
     "output_type": "stream",
     "text": [
      "Control group average sales: $61.12k\n"
     ]
    }
   ],
   "source": [
    "# Calculate average sales for control group (low promotion)\n",
    "control_avg_sales = df2[df2['group'] == 'control']['SalesInThousands'].mean()\n",
    "print(f\"Control group average sales: ${control_avg_sales:.2f}k\")"
   ]
  },
  {
   "cell_type": "code",
   "execution_count": 32,
   "id": "835c260b-2e3e-4f5b-a8ba-65b7737f9f1c",
   "metadata": {},
   "outputs": [
    {
     "name": "stdout",
     "output_type": "stream",
     "text": [
      "Treatment group average sales: $49.12k\n"
     ]
    }
   ],
   "source": [
    "# Calculate average sales for treatment group (medium/high promotion)\n",
    "treatment_avg_sales = df2[df2['group'] == 'treatment']['SalesInThousands'].mean()\n",
    "print(f\"Treatment group average sales: ${treatment_avg_sales:.2f}k\")"
   ]
  },
  {
   "cell_type": "code",
   "execution_count": 34,
   "id": "1d0d62b1-029b-4e49-9c4a-12ab66c8fa14",
   "metadata": {},
   "outputs": [
    {
     "name": "stdout",
     "output_type": "stream",
     "text": [
      "Probability of being in treatment group: 0.8000\n"
     ]
    }
   ],
   "source": [
    "# Calculate the probability of being in treatment group\n",
    "prob_treatment = len(df2[df2['group'] == 'treatment']) / len(df2)\n",
    "print(f\"Probability of being in treatment group: {prob_treatment:.4f}\")"
   ]
  },
  {
   "cell_type": "code",
   "execution_count": 36,
   "id": "0b204e51-1819-4936-b612-73af3eb9002f",
   "metadata": {},
   "outputs": [
    {
     "name": "stdout",
     "output_type": "stream",
     "text": [
      "==================================================\n",
      "SUMMARY:\n",
      "Overall average sales: $51.52k\n",
      "Control group average sales: $61.12k\n",
      "Treatment group average sales: $49.12k\n",
      "Difference (Treatment - Control): $-12.00k\n",
      "Probability of treatment assignment: 0.8000\n",
      "==================================================\n"
     ]
    }
   ],
   "source": [
    "print(\"=\"*50)\n",
    "print(\"SUMMARY:\")\n",
    "print(f\"Overall average sales: ${overall_sales_avg:.2f}k\")\n",
    "print(f\"Control group average sales: ${control_avg_sales:.2f}k\") \n",
    "print(f\"Treatment group average sales: ${treatment_avg_sales:.2f}k\")\n",
    "print(f\"Difference (Treatment - Control): ${treatment_avg_sales - control_avg_sales:.2f}k\")\n",
    "print(f\"Probability of treatment assignment: {prob_treatment:.4f}\")\n",
    "print(\"=\"*50)"
   ]
  },
  {
   "cell_type": "code",
   "execution_count": 38,
   "id": "7b7dac7d-3ca9-4c8a-889d-bd73ff723062",
   "metadata": {},
   "outputs": [
    {
     "name": "stdout",
     "output_type": "stream",
     "text": [
      "Under null hypothesis, true average sales: $51.52k\n",
      "Treatment group size: 32\n",
      "Control group size: 8\n"
     ]
    }
   ],
   "source": [
    "# Set up hypothesis test\n",
    "# H0: sales_treatment - sales_control <= 0 (treatment doesn't improve sales)\n",
    "# H1: sales_treatment - sales_control > 0 (treatment improves sales)\n",
    "\n",
    "# Under null hypothesis, assume both groups have same true average\n",
    "p_null = overall_sales_avg\n",
    "n_treatment = len(df2[df2['group'] == 'treatment'])\n",
    "n_control = len(df2[df2['group'] == 'control'])\n",
    "\n",
    "print(f\"Under null hypothesis, true average sales: ${p_null:.2f}k\")\n",
    "print(f\"Treatment group size: {n_treatment}\")\n",
    "print(f\"Control group size: {n_control}\")"
   ]
  },
  {
   "cell_type": "code",
   "execution_count": 40,
   "id": "50c32639-a35c-43bb-97fa-39dd118589b5",
   "metadata": {},
   "outputs": [
    {
     "name": "stdout",
     "output_type": "stream",
     "text": [
      "Observed difference: $-12.00k\n"
     ]
    }
   ],
   "source": [
    "# Simulate sampling distribution under null hypothesis\n",
    "np.random.seed(42)\n",
    "\n",
    "# Calculate observed difference\n",
    "obs_diff = treatment_avg_sales - control_avg_sales\n",
    "print(f\"Observed difference: ${obs_diff:.2f}k\")\n",
    "\n",
    "# Simulate differences under null (10,000 iterations)\n",
    "null_diffs = []\n",
    "for i in range(10000):\n",
    "    # Sample treatment group sales under null\n",
    "    treatment_sim = np.random.normal(p_null, df2['SalesInThousands'].std(), n_treatment)\n",
    "    \n",
    "    # Sample control group sales under null  \n",
    "    control_sim = np.random.normal(p_null, df2['SalesInThousands'].std(), n_control)\n",
    "    \n",
    "    # Calculate difference\n",
    "    diff = treatment_sim.mean() - control_sim.mean()\n",
    "    null_diffs.append(diff)\n",
    "\n",
    "null_diffs = np.array(null_diffs)"
   ]
  },
  {
   "cell_type": "code",
   "execution_count": 42,
   "id": "eb2e4d96-2720-4e6c-9a85-875e9954074d",
   "metadata": {},
   "outputs": [
    {
     "data": {
      "image/png": "[encoded data removed]",
      "text/plain": [
       "<Figure size 1000x600 with 1 Axes>"
      ]
     },
     "metadata": {},
     "output_type": "display_data"
    }
   ],
   "source": [
    "# Plot the null distribution\n",
    "plt.figure(figsize=(10, 6))\n",
    "plt.hist(null_diffs, bins=50, alpha=0.7, density=True)\n",
    "plt.axvline(obs_diff, color='red', linestyle='--', linewidth=2, \n",
    "           label=f'Observed Difference: ${obs_diff:.2f}k')\n",
    "plt.xlabel('Difference in Average Sales (Treatment - Control) in $k')\n",
    "plt.ylabel('Density')\n",
    "plt.title('Null Distribution of Sales Differences')\n",
    "plt.legend()\n",
    "plt.grid(True, alpha=0.3)\n",
    "plt.show()"
   ]
  },
  {
   "cell_type": "code",
   "execution_count": 44,
   "id": "86bedc02-b2b8-429c-80f3-4aa62c1977e7",
   "metadata": {},
   "outputs": [
    {
     "name": "stdout",
     "output_type": "stream",
     "text": [
      "P-value: 0.9833\n",
      "Result: Fail to reject null hypothesis - No significant difference\n"
     ]
    }
   ],
   "source": [
    "# Calculate p-value\n",
    "p_value = (null_diffs >= obs_diff).mean()\n",
    "print(f\"P-value: {p_value:.4f}\")\n",
    "\n",
    "if p_value < 0.05:\n",
    "    print(\"Result: Reject null hypothesis - Treatment shows significant improvement\")\n",
    "else:\n",
    "    print(\"Result: Fail to reject null hypothesis - No significant difference\")"
   ]
  },
  {
   "cell_type": "code",
   "execution_count": 46,
   "id": "9b7559e3-8cb2-4df7-bb65-ab0badc4da14",
   "metadata": {},
   "outputs": [
    {
     "name": "stdout",
     "output_type": "stream",
     "text": [
      "Median sales: $49.66k\n",
      "High sales rate overall: 0.5000\n"
     ]
    }
   ],
   "source": [
    "# Prepare data for regression\n",
    "df2['intercept'] = 1\n",
    "\n",
    "# Create dummy variable for treatment (1 if treatment, 0 if control)\n",
    "df2['is_treatment'] = (df2['group'] == 'treatment').astype(int)\n",
    "\n",
    "# Fit logistic regression model predicting high sales performance\n",
    "# First, create a binary outcome variable (above/below median sales)\n",
    "median_sales = df2['SalesInThousands'].median()\n",
    "df2['high_sales'] = (df2['SalesInThousands'] > median_sales).astype(int)\n",
    "\n",
    "print(f\"Median sales: ${median_sales:.2f}k\")\n",
    "print(f\"High sales rate overall: {df2['high_sales'].mean():.4f}\")"
   ]
  },
  {
   "cell_type": "code",
   "execution_count": 48,
   "id": "c17a2dbd-339c-4890-8170-0b873cd75523",
   "metadata": {},
   "outputs": [
    {
     "name": "stdout",
     "output_type": "stream",
     "text": [
      "Optimization terminated successfully.\n",
      "         Current function value: 0.529251\n",
      "         Iterations 21\n",
      "                           Logit Regression Results                           \n",
      "==============================================================================\n",
      "Dep. Variable:             high_sales   No. Observations:                   40\n",
      "Model:                          Logit   Df Residuals:                       38\n",
      "Method:                           MLE   Df Model:                            1\n",
      "Date:                Mon, 21 Jul 2025   Pseudo R-squ.:                  0.2365\n",
      "Time:                        13:33:52   Log-Likelihood:                -21.170\n",
      "converged:                       True   LL-Null:                       -27.726\n",
      "Covariance Type:            nonrobust   LLR p-value:                 0.0002935\n",
      "================================================================================\n",
      "                   coef    std err          z      P>|z|      [0.025      0.975]\n",
      "--------------------------------------------------------------------------------\n",
      "intercept       44.2322   3.47e+07   1.28e-06      1.000   -6.79e+07    6.79e+07\n",
      "is_treatment   -44.7430   3.47e+07  -1.29e-06      1.000   -6.79e+07    6.79e+07\n",
      "================================================================================\n",
      "\n",
      "Possibly complete quasi-separation: A fraction 0.20 of observations can be\n",
      "perfectly predicted. This might indicate that there is complete\n",
      "quasi-separation. In this case some parameters will not be identified.\n"
     ]
    }
   ],
   "source": [
    "# Fit logistic regression\n",
    "logit_model = sm.Logit(df2['high_sales'], df2[['intercept', 'is_treatment']])\n",
    "results = logit_model.fit()\n",
    "print(results.summary())"
   ]
  },
  {
   "cell_type": "code",
   "execution_count": 50,
   "id": "05073642-6a77-4f8c-bd89-84dc6bfa6b18",
   "metadata": {},
   "outputs": [
    {
     "name": "stdout",
     "output_type": "stream",
     "text": [
      "Treatment coefficient: -44.7430\n",
      "Treatment odds ratio: 0.0000\n",
      "P-value for treatment effect: 1.0000\n",
      "Treatment does not have a statistically significant effect on achieving high sales\n"
     ]
    }
   ],
   "source": [
    "# Interpret results\n",
    "treatment_coef = results.params['is_treatment']\n",
    "treatment_odds_ratio = np.exp(treatment_coef)\n",
    "\n",
    "print(f\"Treatment coefficient: {treatment_coef:.4f}\")\n",
    "print(f\"Treatment odds ratio: {treatment_odds_ratio:.4f}\")\n",
    "print(f\"P-value for treatment effect: {results.pvalues['is_treatment']:.4f}\")\n",
    "\n",
    "if results.pvalues['is_treatment'] < 0.05:\n",
    "    print(\"Treatment has a statistically significant effect on achieving high sales\")\n",
    "else:\n",
    "    print(\"Treatment does not have a statistically significant effect on achieving high sales\")"
   ]
  },
  {
   "cell_type": "code",
   "execution_count": 59,
   "id": "b89ad09f-63fd-42e6-b4ba-587b65cf09b1",
   "metadata": {},
   "outputs": [
    {
     "name": "stdout",
     "output_type": "stream",
     "text": [
      "Accuracy: 0.6250\n",
      "\n",
      "Confusion Matrix:\n",
      "[[3 2]\n",
      " [1 2]]\n",
      "\n",
      "Classification Report:\n",
      "              precision    recall  f1-score   support\n",
      "\n",
      "           0       0.75      0.60      0.67         5\n",
      "           1       0.50      0.67      0.57         3\n",
      "\n",
      "    accuracy                           0.62         8\n",
      "   macro avg       0.62      0.63      0.62         8\n",
      "weighted avg       0.66      0.62      0.63         8\n",
      "\n"
     ]
    }
   ],
   "source": [
    "from sklearn.linear_model import LogisticRegression\n",
    "from sklearn.metrics import confusion_matrix, classification_report, roc_curve, auc\n",
    "from sklearn.model_selection import train_test_split\n",
    "\n",
    "# First, make sure all dummy variables and interaction terms exist\n",
    "# Create dummy variables for market size (if not already created)\n",
    "if 'Market_Large' not in df2.columns:\n",
    "    df2 = df2.join(pd.get_dummies(df2['MarketSize'], prefix='Market'))\n",
    "\n",
    "# Create interaction terms (if not already created)\n",
    "if 'treatment_large' not in df2.columns:\n",
    "    df2['treatment_large'] = df2['is_treatment'] * df2['Market_Large']\n",
    "if 'treatment_medium' not in df2.columns:    \n",
    "    df2['treatment_medium'] = df2['is_treatment'] * df2['Market_Medium']\n",
    "\n",
    "# Now prepare features\n",
    "X = df2[['is_treatment', 'Market_Large', 'Market_Medium', 'treatment_large', 'treatment_medium']]\n",
    "y = df2['high_sales']\n",
    "\n",
    "# Split data\n",
    "X_train, X_test, y_train, y_test = train_test_split(X, y, test_size=0.2, random_state=42)\n",
    "\n",
    "# Fit model\n",
    "sklearn_model = LogisticRegression()\n",
    "sklearn_model.fit(X_train, y_train)\n",
    "\n",
    "# Make predictions\n",
    "y_pred = sklearn_model.predict(X_test)\n",
    "y_pred_proba = sklearn_model.predict_proba(X_test)[:, 1]\n",
    "\n",
    "# Model performance\n",
    "print(f\"Accuracy: {sklearn_model.score(X_test, y_test):.4f}\")\n",
    "print(\"\\nConfusion Matrix:\")\n",
    "print(confusion_matrix(y_test, y_pred))\n",
    "print(\"\\nClassification Report:\")\n",
    "print(classification_report(y_test, y_pred))"
   ]
  },
  {
   "cell_type": "code",
   "execution_count": 61,
   "id": "42c6d1b2-2a80-4470-8c07-53c95a92752a",
   "metadata": {},
   "outputs": [
    {
     "data": {
      "image/png": "[encoded data removed]",
      "text/plain": [
       "<Figure size 800x600 with 1 Axes>"
      ]
     },
     "metadata": {},
     "output_type": "display_data"
    }
   ],
   "source": [
    "# ROC Curve\n",
    "fpr, tpr, _ = roc_curve(y_test, y_pred_proba)\n",
    "roc_auc = auc(fpr, tpr)\n",
    "\n",
    "plt.figure(figsize=(8, 6))\n",
    "plt.plot(fpr, tpr, color='darkorange', lw=2, label=f'ROC curve (AUC = {roc_auc:.2f})')\n",
    "plt.plot([0, 1], [0, 1], color='navy', lw=2, linestyle='--')\n",
    "plt.xlim([0.0, 1.0])\n",
    "plt.ylim([0.0, 1.05])\n",
    "plt.xlabel('False Positive Rate')\n",
    "plt.ylabel('True Positive Rate')\n",
    "plt.title('ROC Curve for High Sales Prediction')\n",
    "plt.legend(loc=\"lower right\")\n",
    "plt.grid(True, alpha=0.3)\n",
    "plt.show()"
   ]
  },
  {
   "cell_type": "code",
   "execution_count": 63,
   "id": "6b491b22-17f3-406f-a552-8a3ee4c5bdd8",
   "metadata": {},
   "outputs": [
    {
     "name": "stdout",
     "output_type": "stream",
     "text": [
      "============================================================\n",
      "MARKETING CAMPAIGN ANALYSIS SUMMARY\n",
      "============================================================\n",
      "Sample Size: 40 records\n",
      "Treatment Group: 32 records (Promotion levels 2 & 3)\n",
      "Control Group: 8 records (Promotion level 1)\n",
      "\n",
      "SALES PERFORMANCE:\n",
      "Control Group Average: $61.12k\n",
      "Treatment Group Average: $49.12k\n",
      "Difference: $-12.00k\n",
      "\n",
      "STATISTICAL SIGNIFICANCE:\n",
      "P-value from simulation: 0.9833\n",
      "P-value from regression: 1.0000\n",
      "\n",
      "CONCLUSION: No statistically significant difference between\n",
      "promotion campaigns and baseline sales performance.\n",
      "============================================================\n"
     ]
    }
   ],
   "source": [
    "print(\"=\"*60)\n",
    "print(\"MARKETING CAMPAIGN ANALYSIS SUMMARY\")\n",
    "print(\"=\"*60)\n",
    "print(f\"Sample Size: {len(df2)} records\")\n",
    "print(f\"Treatment Group: {n_treatment} records (Promotion levels 2 & 3)\")\n",
    "print(f\"Control Group: {n_control} records (Promotion level 1)\")\n",
    "print()\n",
    "print(\"SALES PERFORMANCE:\")\n",
    "print(f\"Control Group Average: ${control_avg_sales:.2f}k\")\n",
    "print(f\"Treatment Group Average: ${treatment_avg_sales:.2f}k\") \n",
    "print(f\"Difference: ${treatment_avg_sales - control_avg_sales:.2f}k\")\n",
    "print()\n",
    "print(\"STATISTICAL SIGNIFICANCE:\")\n",
    "print(f\"P-value from simulation: {p_value:.4f}\")\n",
    "print(f\"P-value from regression: {results.pvalues['is_treatment']:.4f}\")\n",
    "print()\n",
    "\n",
    "if p_value < 0.05:\n",
    "    print(\"CONCLUSION: Promotion campaigns (levels 2 & 3) show statistically\")\n",
    "    print(\"significant improvement in sales performance compared to baseline.\")\n",
    "else:\n",
    "    print(\"CONCLUSION: No statistically significant difference between\")\n",
    "    print(\"promotion campaigns and baseline sales performance.\")\n",
    "    \n",
    "print(\"=\"*60)"
   ]
  },
  {
   "cell_type": "code",
   "execution_count": null,
   "id": "6c13a87f-1593-4fbf-8377-a0a4dc2b7efe",
   "metadata": {},
   "outputs": [],
   "source": []
  }
 ],
 "metadata": {
  "kernelspec": {
   "display_name": "Python [conda env:base] *",
   "language": "python",
   "name": "conda-base-py"
  },
  "language_info": {
   "codemirror_mode": {
    "name": "ipython",
    "version": 3
   },
   "file_extension": ".py",
   "mimetype": "text/x-python",
   "name": "python",
   "nbconvert_exporter": "python",
   "pygments_lexer": "ipython3",
   "version": "3.12.7"
  }
 },
 "nbformat": 4,
 "nbformat_minor": 5
}
